{
 "cells": [
  {
   "cell_type": "markdown",
   "metadata": {},
   "source": [
    "# Bruk av Euler-Cromer-metoden og bli kjent med SciPy-biblioteket"
   ]
  },
  {
   "cell_type": "markdown",
   "metadata": {},
   "source": [
    "### TFY4163 Fluidmekanikk og bølgefysikk – Programmeringsøving 2"
   ]
  },
  {
   "cell_type": "markdown",
   "metadata": {},
   "source": [
    "**Forkunnskaper:** Introduksjon til SciPy-notebooken og Euler-metoden. "
   ]
  },
  {
   "cell_type": "markdown",
   "metadata": {},
   "source": [
    "**Læringsmål:** Løse andreordens ODE ved Euler-Cromer-metoden. Bli kjent med SciPy-biblioteket, og benytte en funksjon fra integrate pakken for å løse ODE. "
   ]
  },
  {
   "cell_type": "markdown",
   "metadata": {},
   "source": [
    "------------------------"
   ]
  },
  {
   "cell_type": "markdown",
   "metadata": {},
   "source": [
    "I programmeringsøving 1 ble Euler-metoden brukt til å finne en løsning av bevegelsesligningen for en enkel harmonisk pendel. Vi observerte da at vinkelutslaget, og derfor energien, økte raskt med tiden. Vi må derfor forbedre vår numeriske metode for å få en fysisk løsning.\n",
    "\n",
    "Til dette skal vi benytte Euler-Cromer metoden (ofte også kalt semi-implisitt Euler-metode). Metoden er basert på en enkel modifikasjon av Euler metoden. Vi bruker de *gamle* verdiene, $\\theta_i$ for å beregne vinkelhastigheten $\\omega_{i+1}$, men den *oppdaterte* verdien, $\\omega_{i+1}$, for å beregne vinkelen, $\\theta_{i+1}$.\n",
    "\n",
    "Bevegelsesligningen (som ble utledet i programmeringsøving 1) er\n",
    "\n",
    "\n",
    "$$\\frac{d^2 \\theta}{d t^2} = - \\frac{g}{l} \\sin \\theta,$$ \n",
    "\n",
    "hvor $\\theta$ er vinkelutslaget til snora med hensyn til vertikalen, $g$ er tyngdeakselerasjonen og $l$ er lengden av snora."
   ]
  },
  {
   "cell_type": "markdown",
   "metadata": {},
   "source": [
    "## Oppgave 1 – Løsning av bevegelsesligningen ved Euler-Cromer metoden "
   ]
  },
  {
   "cell_type": "markdown",
   "metadata": {},
   "source": [
    "Parametrene og initialbetingelsene til pendelen\n",
    "\n",
    "- Lengden av snora, $l = 1.0$ m\n",
    "- Masse, $m = 5$ kg\n",
    "- Tyngdeakselerasjonen, $g = 9.8 \\: \\text{m}/\\text{s}^2$ \n",
    "- Startvinkel til snora med hensyn til vertikalen, $\\theta_0 = 0.2$ rad\n",
    "- Vinkelhastighetens startverdi, $\\omega_0 = 0.0$ rad/s"
   ]
  },
  {
   "cell_type": "markdown",
   "metadata": {},
   "source": [
    "**a)** Lag en funksjon hvor du beregner vinkelutslaget, $\\theta$, og vinkelhastigheten, $\\omega$, ved å bruke Euler-Cromer metoden. Anta også her at $\\sin \\theta \\approx \\theta$ (lite vinkelutslag)."
   ]
  },
  {
   "cell_type": "code",
   "execution_count": 99,
   "metadata": {},
   "outputs": [],
   "source": [
    "import numpy as np\n",
    "import pandas as pd\n",
    "import seaborn as sns\n",
    "import matplotlib.pyplot as plt\n",
    "l = 1 # m\n",
    "m = 5 # kg\n",
    "g = 9.81 # m/sˆ2"
   ]
  },
  {
   "cell_type": "code",
   "execution_count": 100,
   "metadata": {},
   "outputs": [],
   "source": [
    "# Husk å definere nødvendige biblioteker\n",
    "\n",
    "# Definer konstanter og initialbetingelser\n",
    "\n",
    "# For å plotte i notebooken\n",
    "%matplotlib inline\n",
    "\n",
    "def euler_cromer_approx(theta_0, w_0, dt, T):\n",
    "\n",
    "    \"\"\"\n",
    "    Calculates angular displacement and angular velocity using the Euler-Cromer method\n",
    "    \n",
    "    PARAMETERS:\n",
    "    -----------\n",
    "    theta_0: initial angular displacement \n",
    "    w_0: initial angular velocity\n",
    "    dt: timestep\n",
    "    T: max t\n",
    "    \n",
    "    \n",
    "    RETURNS:\n",
    "    --------\n",
    "    theta: array with values of angular displacement\n",
    "    w: array with values of angular velocity\n",
    "    t: array with time-values\n",
    "    \"\"\"\n",
    "    \n",
    "    # SKRIV KODE HER\n",
    "    \n",
    "    \n",
    "\n",
    "    #N = int(T/dt)\n",
    "\n",
    "    N = int(T/0.001)\n",
    "\n",
    "    w = np.zeros(N)\n",
    "    theta = np.zeros(N)\n",
    "    t = np.linspace(0, T, N)\n",
    "    \n",
    "    w[0] = w_0\n",
    "    theta[0] = theta_0\n",
    "    \n",
    "    for i in range(0, N-1):\n",
    "        w[i+1] = w[i] - (g/l) * theta[i] * dt # next omega\n",
    "        theta[i+1] = theta[i] + w[i+1] * dt # next theta\n",
    "\n",
    "    return theta, w, t\n"
   ]
  },
  {
   "cell_type": "markdown",
   "metadata": {},
   "source": [
    "**b)** Vi skal nå undersøke hvor stabil Euler-Cromer metoden er for vårt system.\n",
    "\n",
    "1. Plot vinkelutslaget, $\\theta$, som funksjon av tid, $t$, opp til $t = 10$ s. Bruk tidssteg $\\Delta t = 0.007$ s. Observer at amplituden til vinkelutslaget *ikke* endrer seg med tid slik den gjorde med Euler-metoden i programmeringsøvingøving 1 (oppgave 2c). Euler-Cromer metoden er derfor en forbedring over Euler metoden da vi har konstant total energi.\n",
    "\n",
    "2. Benytt funksjonen `energy_calculation` fra programmeringsøving 1 (oppgave 2b), og bytt ut  `euler_method` med `euler_cromer_approx`. Plot den totale energien til pendelen som funksjon av tid, for tidssteg $\\Delta t = 0.001$ s, $\\Delta t = 0.004$ s og $\\Delta t = 0.007$ s. Husk å inkludere `label` for plottene, og `legend` for figuren. Du vil nå observere at den totale energien varierer periodisk, men er konservert for en *periode*,\n",
    "$2 \\pi \\sqrt{l/g}$. Videre vil du observere at hvor mye energien varierer over en periode minker med tidssteget. \n",
    "\n",
    "5. Beregn energidifferansen mellom slutten og starten av en periode for $\\Delta t = 0.001$ s. *Hint:* Plot for tid opp til $t = 2 \\pi \\sqrt{l/g}$, slik at det siste elementet i arrayen er ved fullført periode. Du kan aksessere siste element i en array, `a`, med `a[-1]`."
   ]
  },
  {
   "cell_type": "code",
   "execution_count": 101,
   "metadata": {},
   "outputs": [],
   "source": [
    "# SKRIV KODE HER\n",
    "\n",
    "theta_1, omega_1, t_1 = euler_cromer_approx(0.2, 0, 0.001, 10)\n",
    "theta_4, omega_4, t_4 = euler_cromer_approx(0.2, 0, 0.004, 10)\n",
    "theta_7, omega_7, t_7 = euler_cromer_approx(0.2, 0, 0.007, 10)"
   ]
  },
  {
   "cell_type": "markdown",
   "metadata": {},
   "source": [
    "**c)** Vi går nå bort fra tilnærmelsen $\\sin \\theta = \\theta$, slik at bevegelsesligningen for pendelen er gitt ved\n",
    "\n",
    "\\begin{equation}\n",
    " \t\\frac{d^2 \\theta}{d t^2} = - \\frac{g}{l} \\sin \\theta.\n",
    "\t\\label{bevegelse}\n",
    "\\end{equation}\n",
    "\n",
    "Denne differensialligningen, som er ikke-lineær, kan ikke løses analytisk, og vi *må* derfor benytte numeriske metoder. Det er viktig å merke seg at svært mangle ligninger man kommer fram til i fysikken ikke har analytiske løsninger, og det er derfor nyttig å kunne numeriske metoder for å tilnærme løsningene. \n",
    "\n",
    "1. Skriv en funksjon som beregner vinkelutslaget, $\\theta$, og vinkelhastigheten, $\\omega$, som funksjon av tid ved bruk av Euler-Cromer metoden. *Hint:* Kun en liten endring av koden er nødvendig.\n",
    "\n",
    "\n",
    "2. Plot vinkelutslaget funnet med liten vinkel tilnærmelsen sammen med vinkelutslaget som beregner fra funksjonen over, for initialvinkel $\\theta_0 = 15^\\circ$ og $\\theta_0 = 40^\\circ$. Benytt tidssteg $\\Delta t = 0.001$ s. Prøv deg gjerne fram med forskjellige vinkler, og observer for hvilke startvinkler det ser ut som at liten vinkel tilnærmelsen er rimelig å benytte. *Tips:* Bruk funksjonen `np.radians` for å konvertere fra grader til radianer.\n",
    " \n",
    " "
   ]
  },
  {
   "cell_type": "code",
   "execution_count": 102,
   "metadata": {},
   "outputs": [
    {
     "data": {
      "text/html": [
       "<div>\n",
       "<style scoped>\n",
       "    .dataframe tbody tr th:only-of-type {\n",
       "        vertical-align: middle;\n",
       "    }\n",
       "\n",
       "    .dataframe tbody tr th {\n",
       "        vertical-align: top;\n",
       "    }\n",
       "\n",
       "    .dataframe thead th {\n",
       "        text-align: right;\n",
       "    }\n",
       "</style>\n",
       "<table border=\"1\" class=\"dataframe\">\n",
       "  <thead>\n",
       "    <tr style=\"text-align: right;\">\n",
       "      <th></th>\n",
       "      <th>t_1</th>\n",
       "      <th>theta_1</th>\n",
       "      <th>omega_1</th>\n",
       "      <th>t_4</th>\n",
       "      <th>theta_4</th>\n",
       "      <th>omega_4</th>\n",
       "      <th>t_7</th>\n",
       "      <th>theta_7</th>\n",
       "      <th>omega_7</th>\n",
       "      <th>energy_1</th>\n",
       "      <th>energy_4</th>\n",
       "      <th>energy_7</th>\n",
       "    </tr>\n",
       "  </thead>\n",
       "  <tbody>\n",
       "    <tr>\n",
       "      <th>0</th>\n",
       "      <td>0.000</td>\n",
       "      <td>0.200000</td>\n",
       "      <td>0.000000</td>\n",
       "      <td>0.000</td>\n",
       "      <td>0.200000</td>\n",
       "      <td>0.000000</td>\n",
       "      <td>0.000</td>\n",
       "      <td>0.200000</td>\n",
       "      <td>0.000000</td>\n",
       "      <td>0.100000</td>\n",
       "      <td>0.100000</td>\n",
       "      <td>0.100000</td>\n",
       "    </tr>\n",
       "    <tr>\n",
       "      <th>1</th>\n",
       "      <td>0.001</td>\n",
       "      <td>0.199998</td>\n",
       "      <td>-0.001962</td>\n",
       "      <td>0.001</td>\n",
       "      <td>0.199969</td>\n",
       "      <td>-0.007848</td>\n",
       "      <td>0.001</td>\n",
       "      <td>0.199904</td>\n",
       "      <td>-0.013734</td>\n",
       "      <td>0.100008</td>\n",
       "      <td>0.100123</td>\n",
       "      <td>0.100375</td>\n",
       "    </tr>\n",
       "    <tr>\n",
       "      <th>2</th>\n",
       "      <td>0.002</td>\n",
       "      <td>0.199994</td>\n",
       "      <td>-0.003924</td>\n",
       "      <td>0.002</td>\n",
       "      <td>0.199906</td>\n",
       "      <td>-0.015695</td>\n",
       "      <td>0.002</td>\n",
       "      <td>0.199712</td>\n",
       "      <td>-0.027461</td>\n",
       "      <td>0.100033</td>\n",
       "      <td>0.100522</td>\n",
       "      <td>0.101597</td>\n",
       "    </tr>\n",
       "    <tr>\n",
       "      <th>3</th>\n",
       "      <td>0.003</td>\n",
       "      <td>0.199988</td>\n",
       "      <td>-0.005886</td>\n",
       "      <td>0.003</td>\n",
       "      <td>0.199812</td>\n",
       "      <td>-0.023539</td>\n",
       "      <td>0.003</td>\n",
       "      <td>0.199423</td>\n",
       "      <td>-0.041176</td>\n",
       "      <td>0.100075</td>\n",
       "      <td>0.101197</td>\n",
       "      <td>0.103663</td>\n",
       "    </tr>\n",
       "    <tr>\n",
       "      <th>4</th>\n",
       "      <td>0.004</td>\n",
       "      <td>0.199980</td>\n",
       "      <td>-0.007848</td>\n",
       "      <td>0.004</td>\n",
       "      <td>0.199686</td>\n",
       "      <td>-0.031380</td>\n",
       "      <td>0.004</td>\n",
       "      <td>0.199039</td>\n",
       "      <td>-0.054870</td>\n",
       "      <td>0.100134</td>\n",
       "      <td>0.102148</td>\n",
       "      <td>0.106568</td>\n",
       "    </tr>\n",
       "    <tr>\n",
       "      <th>...</th>\n",
       "      <td>...</td>\n",
       "      <td>...</td>\n",
       "      <td>...</td>\n",
       "      <td>...</td>\n",
       "      <td>...</td>\n",
       "      <td>...</td>\n",
       "      <td>...</td>\n",
       "      <td>...</td>\n",
       "      <td>...</td>\n",
       "      <td>...</td>\n",
       "      <td>...</td>\n",
       "      <td>...</td>\n",
       "    </tr>\n",
       "    <tr>\n",
       "      <th>9995</th>\n",
       "      <td>9.996</td>\n",
       "      <td>0.198811</td>\n",
       "      <td>0.069175</td>\n",
       "      <td>9.996</td>\n",
       "      <td>0.181328</td>\n",
       "      <td>0.267870</td>\n",
       "      <td>9.996</td>\n",
       "      <td>0.145070</td>\n",
       "      <td>0.436225</td>\n",
       "      <td>0.110778</td>\n",
       "      <td>0.261586</td>\n",
       "      <td>0.528344</td>\n",
       "    </tr>\n",
       "    <tr>\n",
       "      <th>9996</th>\n",
       "      <td>9.997</td>\n",
       "      <td>0.198879</td>\n",
       "      <td>0.067224</td>\n",
       "      <td>9.997</td>\n",
       "      <td>0.182371</td>\n",
       "      <td>0.260755</td>\n",
       "      <td>9.997</td>\n",
       "      <td>0.148053</td>\n",
       "      <td>0.426263</td>\n",
       "      <td>0.110180</td>\n",
       "      <td>0.253131</td>\n",
       "      <td>0.509051</td>\n",
       "    </tr>\n",
       "    <tr>\n",
       "      <th>9997</th>\n",
       "      <td>9.998</td>\n",
       "      <td>0.198944</td>\n",
       "      <td>0.065273</td>\n",
       "      <td>9.998</td>\n",
       "      <td>0.183386</td>\n",
       "      <td>0.253599</td>\n",
       "      <td>9.998</td>\n",
       "      <td>0.150966</td>\n",
       "      <td>0.416097</td>\n",
       "      <td>0.109598</td>\n",
       "      <td>0.244856</td>\n",
       "      <td>0.489818</td>\n",
       "    </tr>\n",
       "    <tr>\n",
       "      <th>9998</th>\n",
       "      <td>9.999</td>\n",
       "      <td>0.199007</td>\n",
       "      <td>0.063322</td>\n",
       "      <td>9.999</td>\n",
       "      <td>0.184371</td>\n",
       "      <td>0.246403</td>\n",
       "      <td>9.999</td>\n",
       "      <td>0.153806</td>\n",
       "      <td>0.405730</td>\n",
       "      <td>0.109034</td>\n",
       "      <td>0.236767</td>\n",
       "      <td>0.470682</td>\n",
       "    </tr>\n",
       "    <tr>\n",
       "      <th>9999</th>\n",
       "      <td>10.000</td>\n",
       "      <td>0.199069</td>\n",
       "      <td>0.061370</td>\n",
       "      <td>10.000</td>\n",
       "      <td>0.185328</td>\n",
       "      <td>0.239168</td>\n",
       "      <td>10.000</td>\n",
       "      <td>0.156572</td>\n",
       "      <td>0.395168</td>\n",
       "      <td>0.108486</td>\n",
       "      <td>0.228869</td>\n",
       "      <td>0.451681</td>\n",
       "    </tr>\n",
       "  </tbody>\n",
       "</table>\n",
       "<p>10000 rows × 12 columns</p>\n",
       "</div>"
      ],
      "text/plain": [
       "         t_1   theta_1   omega_1     t_4   theta_4   omega_4     t_7  \\\n",
       "0      0.000  0.200000  0.000000   0.000  0.200000  0.000000   0.000   \n",
       "1      0.001  0.199998 -0.001962   0.001  0.199969 -0.007848   0.001   \n",
       "2      0.002  0.199994 -0.003924   0.002  0.199906 -0.015695   0.002   \n",
       "3      0.003  0.199988 -0.005886   0.003  0.199812 -0.023539   0.003   \n",
       "4      0.004  0.199980 -0.007848   0.004  0.199686 -0.031380   0.004   \n",
       "...      ...       ...       ...     ...       ...       ...     ...   \n",
       "9995   9.996  0.198811  0.069175   9.996  0.181328  0.267870   9.996   \n",
       "9996   9.997  0.198879  0.067224   9.997  0.182371  0.260755   9.997   \n",
       "9997   9.998  0.198944  0.065273   9.998  0.183386  0.253599   9.998   \n",
       "9998   9.999  0.199007  0.063322   9.999  0.184371  0.246403   9.999   \n",
       "9999  10.000  0.199069  0.061370  10.000  0.185328  0.239168  10.000   \n",
       "\n",
       "       theta_7   omega_7  energy_1  energy_4  energy_7  \n",
       "0     0.200000  0.000000  0.100000  0.100000  0.100000  \n",
       "1     0.199904 -0.013734  0.100008  0.100123  0.100375  \n",
       "2     0.199712 -0.027461  0.100033  0.100522  0.101597  \n",
       "3     0.199423 -0.041176  0.100075  0.101197  0.103663  \n",
       "4     0.199039 -0.054870  0.100134  0.102148  0.106568  \n",
       "...        ...       ...       ...       ...       ...  \n",
       "9995  0.145070  0.436225  0.110778  0.261586  0.528344  \n",
       "9996  0.148053  0.426263  0.110180  0.253131  0.509051  \n",
       "9997  0.150966  0.416097  0.109598  0.244856  0.489818  \n",
       "9998  0.153806  0.405730  0.109034  0.236767  0.470682  \n",
       "9999  0.156572  0.395168  0.108486  0.228869  0.451681  \n",
       "\n",
       "[10000 rows x 12 columns]"
      ]
     },
     "execution_count": 102,
     "metadata": {},
     "output_type": "execute_result"
    }
   ],
   "source": [
    "# SKRIV KODE HER\n",
    "df = pd.DataFrame({\n",
    "    't_1': t_1,\n",
    "    \"theta_1\": theta_1,\n",
    "    \"omega_1\": omega_1,\n",
    "    't_4': t_4,\n",
    "    \"theta_4\": theta_4,\n",
    "    \"omega_4\": omega_4,\n",
    "    't_7': t_7,\n",
    "    \"theta_7\": theta_7,\n",
    "    \"omega_7\": omega_7,\n",
    "})\n",
    "\n",
    "times = [1, 4, 7]\n",
    "for i in times:\n",
    "    df[f'energy_{i}'] = 0.5 * m * l * (l* df[f'omega_{i}']**2 + df[f'theta_{i}']**2)\n",
    "df"
   ]
  },
  {
   "cell_type": "code",
   "execution_count": 107,
   "metadata": {},
   "outputs": [
    {
     "data": {
      "image/png": "[encoded data removed]",
      "text/plain": [
       "<Figure size 640x480 with 1 Axes>"
      ]
     },
     "metadata": {},
     "output_type": "display_data"
    }
   ],
   "source": [
    "df.plot(x = 't_1', y = 'theta_1')\n",
    "\n",
    "plt.show()"
   ]
  },
  {
   "cell_type": "code",
   "execution_count": 111,
   "metadata": {},
   "outputs": [],
   "source": [
    "def euler_cromer_approx_new(theta_0, w_0, dt, T):\n",
    "\n",
    "    \"\"\"\n",
    "    Calculates angular displacement and angular velocity using the Euler-Cromer method\n",
    "    \n",
    "    PARAMETERS:\n",
    "    -----------\n",
    "    theta_0: initial angular displacement \n",
    "    w_0: initial angular velocity\n",
    "    dt: timestep\n",
    "    T: max t\n",
    "    \n",
    "    \n",
    "    RETURNS:\n",
    "    --------\n",
    "    theta: array with values of angular displacement\n",
    "    w: array with values of angular velocity\n",
    "    t: array with time-values\n",
    "    \"\"\"\n",
    "    \n",
    "    # SKRIV KODE HER\n",
    "    \n",
    "    \n",
    "\n",
    "    #N = int(T/dt)\n",
    "\n",
    "    N = int(T/0.001)\n",
    "\n",
    "    w = np.zeros(N)\n",
    "    theta = np.zeros(N)\n",
    "    t = np.linspace(0, T, N)\n",
    "    \n",
    "    w[0] = w_0\n",
    "    theta[0] = theta_0\n",
    "    \n",
    "    for i in range(0, N-1):\n",
    "        w[i+1] = w[i] - (g/l) * np.sin(theta[i]) * dt # next omega\n",
    "        theta[i+1] = theta[i] + w[i+1] * dt # next theta\n",
    "\n",
    "    return theta, w, t"
   ]
  },
  {
   "cell_type": "code",
   "execution_count": 115,
   "metadata": {},
   "outputs": [
    {
     "data": {
      "text/plain": [
       "[<matplotlib.lines.Line2D at 0x7ff2f19657c0>]"
      ]
     },
     "execution_count": 115,
     "metadata": {},
     "output_type": "execute_result"
    },
    {
     "data": {
      "image/png": "[encoded data removed]",
      "text/plain": [
       "<Figure size 640x480 with 1 Axes>"
      ]
     },
     "metadata": {},
     "output_type": "display_data"
    }
   ],
   "source": [
    "new_theta_15, new_omega_15, new_t_15 = euler_cromer_approx_new(np.radians(15), 0, 0.001, 10)\n",
    "new_theta_40, new_omega_40, new_t_40 = euler_cromer_approx_new(np.radians(40), 0, 0.001, 10)\n",
    "\n",
    "plt.plot(new_t_15, new_theta_15, label = \"sinø = ø\")\n",
    "plt.plot(new_t_40, new_theta_40, label = \"sinø != ø\")"
   ]
  },
  {
   "cell_type": "markdown",
   "metadata": {},
   "source": [
    "##  Oppgave 2 – Bruk av SciPy biblioteket"
   ]
  },
  {
   "cell_type": "markdown",
   "metadata": {},
   "source": [
    "Vi skal nå bruke funksjonen `scipy.integrate.solve_ivp` fra SciPy-biblioteket for å finne løsning til bevegelsesligningen for pendelen (som er en andreordens ordinær differensialligning). Når man skal bruke en ny funksjon for første gang så må man lese gjennom funksjons-dokumentasjonen, sånn at man skjønner hvordan funksjonen brukes. Les derfor gjennom notebooken \"Introduksjon til SciPy\" som ligger på BlackBoard under \"Numeriske øvinger\". **Det er viktig at du har lest nøye gjennom denne, og forstår eksempelet gitt der.**\n",
    "\n",
    "`scipy.integrate.solve_ivp` bruker Runge-Kutta 5(4)-metoden (ofte forkortet RK45) som standard, noe vi også skal bruke i denne oppgaven. Denne metoden er en såkalt *adaptiv metode* med varierende tidssteg. Kort fortalt bruker metoden to ulike ODE-løsere (4. og 5. ordens Runge-Kutta [se programmeringsøving 3]) til å beregne usikkerheten til hvert steg. Steglengden justeres slik at ønsket usikkerhet blir oppnådd. Dermed bruker man korte steglengder kun når det er nødvendig. Dere lærer mer om dette i faget TMA4320 Introduksjon til vitenskapelige beregninger. De som er interesserte kan ta en titt på notebooken [Adaptive Runge-Kutta Method](https://nbviewer.jupyter.org/urls/www.numfys.net/media/notebooks/adaptive_runge_kutta_methods.ipynb) for å lære mer om prinsippet.\n",
    "\n",
    "I eksemplene fra dokumentasjonen er det vist hvordan man finner løsning for en førsteordens ordinær differensialligning (ODE). Bevegelsesligningen for den enkle harmoniske pendelbevegelsen er en *andreordens ODE*. Vi må derfor løse ett ligningssystem av *to* ODE-er. \n",
    "\n",
    "**a)** Lag en funksjon som tar inn en float `t`, og et array `vals`, og returnerer et array av de to verdiene til høyresiden av de to ODE-ene for den harmonsike pendelen (uten å anta lite vinkelutslag). Det er gitt funksjonsdeklarasjon, input parametre og hva som skal returneres i funksjonen under. *Hint:* Skriv først bevegelsesligningen for pendelen som to førsteordens ODE-er (slik som ble gjort i programmeringsøving 1). \n"
   ]
  },
  {
   "cell_type": "code",
   "execution_count": 116,
   "metadata": {},
   "outputs": [
    {
     "data": {
      "text/plain": [
       "'\\nNote:\\nscipy.integrate.solve_ivp requires that fun returns\\nan object which is of type array_like. \\nAn ordinary list is of this type (as well as e.g. integers, floats and numpy arrays)\\nso we can return a list, and do not have to first convert into an np.array. \\n'"
      ]
     },
     "execution_count": 116,
     "metadata": {},
     "output_type": "execute_result"
    }
   ],
   "source": [
    "def equation(t, vals):\n",
    "    \"\"\"\n",
    "    Calculates the value of RHS of the differentail equations given an array (vals) which \n",
    "    contains the values of the parameters\n",
    "\n",
    "    Parameters\n",
    "    -----------\n",
    "    t: float. time\n",
    "    vals: array. values of theta and omega, [theta, omega] \n",
    "    \n",
    "    Returns\n",
    "    -------\n",
    "    array with values of the RHS of the equations.\n",
    "    \"\"\"\n",
    "    \n",
    "    # SKRIV KODE HER\n",
    "    dtheta = vals[0]\n",
    "    dw = -(g/l)*np.sin(vals[0])\n",
    "\n",
    "    return [dtheta, dw]\n",
    "\n",
    "\"\"\"\n",
    "Note:\n",
    "scipy.integrate.solve_ivp requires that fun returns\n",
    "an object which is of type array_like. \n",
    "An ordinary list is of this type (as well as e.g. integers, floats and numpy arrays)\n",
    "so we can return a list, and do not have to first convert into an np.array. \n",
    "\"\"\""
   ]
  },
  {
   "cell_type": "markdown",
   "metadata": {},
   "source": [
    "**b)** Lag en funksjon som benytter `scipy.integrate.solve_ivp` for å beregne vinkelutslaget, $\\theta$ og vinkelhastigheten, $\\omega$. Funksjonen skal også returnere en array med tidsverdier. Plot vinkelutslaget som funksjon av tid, opp til $t = 10$ s. Sett $\\theta_0 = 0.2$ rad, og $\\omega_0 = 0.0$ rad/s. Bruk tidssteg $\\Delta t = 0.01$."
   ]
  },
  {
   "cell_type": "code",
   "execution_count": 106,
   "metadata": {},
   "outputs": [],
   "source": [
    "def RK45_method(RHS, theta_0, w_0, t_1, dt):\n",
    "    \"\"\"\n",
    "    Calculates theta and omega using the scipy.integrate.solve_ivp function (RK54)\n",
    "    \n",
    "    RHS: right hand side of differential equations\n",
    "    t_1: time-value to calculate up to (e.g. 10 seconds)\n",
    "    dt: timestep\n",
    "    \n",
    "    Returns\n",
    "    -------\n",
    "    theta: array of theta values\n",
    "    w: array of omega values\n",
    "    t: timevalues\n",
    "    \"\"\"\n",
    "    \n",
    "    # SKRIV KODE HER\n",
    "    \n",
    "    return theta, w, t\n",
    "\n",
    "# PLOT VINKELUTSLAGET"
   ]
  }
 ],
 "metadata": {
  "@webio": {
   "lastCommId": null,
   "lastKernelId": null
  },
  "kernelspec": {
   "display_name": "venv",
   "language": "python",
   "name": "python3"
  },
  "language_info": {
   "codemirror_mode": {
    "name": "ipython",
    "version": 3
   },
   "file_extension": ".py",
   "mimetype": "text/x-python",
   "name": "python",
   "nbconvert_exporter": "python",
   "pygments_lexer": "ipython3",
   "version": "3.9.0"
  },
  "vscode": {
   "interpreter": {
    "hash": "986fd0fa62f8d3ff6feffad037a0a66af9e9ce0c193394314e0bd26609e0154b"
   }
  }
 },
 "nbformat": 4,
 "nbformat_minor": 2
}