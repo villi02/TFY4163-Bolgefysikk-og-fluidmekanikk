{
 "cells": [
  {
   "cell_type": "markdown",
   "metadata": {},
   "source": [
    "# Fjerdeordens Runge-Kutta-metoden for løsning av differensialligninger"
   ]
  },
  {
   "cell_type": "markdown",
   "metadata": {},
   "source": [
    "### TFY4163 Fluidmekanikk og bølgefysikk – Programmeringsøving 3"
   ]
  },
  {
   "cell_type": "markdown",
   "metadata": {},
   "source": [
    "**Forkunnskaper:** Euler-Cromer metoden, bruk av `scipy.integrate.solve_ivp` funksjonen fra SciPy biblioteket. Les gjennom introduksjon til Runge-Kutta metoden.  "
   ]
  },
  {
   "cell_type": "markdown",
   "metadata": {},
   "source": [
    "**Læringsmål:** Implementere fjerdeordens Runge-Kutta metoden, og utføre konvergenstest."
   ]
  },
  {
   "cell_type": "markdown",
   "metadata": {},
   "source": [
    "--------"
   ]
  },
  {
   "cell_type": "markdown",
   "metadata": {},
   "source": [
    "## Oppgave 1 –  Sammenligning av RK5(4) metoden og Euler-Cromer metoden"
   ]
  },
  {
   "cell_type": "markdown",
   "metadata": {},
   "source": [
    "I programmeringsøving 2 ble løsning av bevegelsesligningen for en enkel harmonisk pendel ved RK5(4)-metoden implementert ved å bruke `scipy.integrate.solve_ivp` funksjonen. Vi skal igjen se på enkel harmonisk pendelbevegelse. Bruk følgende initialverdier og parametre:\n",
    "\n",
    "- Lengden av snora, $l = 1.0$ m\n",
    "- Masse, $m = 5$ kg\n",
    "- Tyngdeakselerasjonen, $g = 9.8 \\: \\text{m}/\\text{s}^2$ \n",
    "- Startvinkel til snora med hensyn til vertikalen, $\\theta_0 = 0.2$ rad\n",
    "- Vinkelhastighetens startverdi, $\\omega_0 = 0.0$ rad/s"
   ]
  },
  {
   "cell_type": "markdown",
   "metadata": {},
   "source": [
    "$\\textbf{a)}$ Plot vinkelutslaget, $\\theta$, som funksjon av tid, $t$, med tidssteg $\\Delta t = 0.1$ s både for Euler-Cromer metoden og RK5(4) metoden, sammen med den analytiske løsningen av ligningen. Plott opp til $t=20$ s. Den analytiske løsningen er $\\theta(t) = \\theta_0 \\cos(\\omega t)$, med $\\omega = \\sqrt{g/l}$. Du vil observere at RK5(4) metoden gir en løsning nærmere den analytiske enn Euler-Cromer metoden. Dette er fordi Euler-Cromer metoden er en første ordens metode, mens RK5(4) er en høyere ordens metode.\n",
    "\n",
    "*Merk:* Noe av koden du trenger for å løse denne oppgaven er gitt under, men du kan også bruke koden du selv skrev i programmeringsøving 2 (gitt at den fungerer som forventet). "
   ]
  },
  {
   "cell_type": "code",
   "execution_count": null,
   "metadata": {},
   "outputs": [],
   "source": [
    "import numpy as np                # Importing numpy as np\n",
    "import matplotlib.pyplot as plt   # Importing matplotlib.pyplot for plotting \n",
    "from scipy import integrate       # Importing integrate package from SciPy\n",
    "\n",
    "%matplotlib inline\n",
    "\n",
    "def euler_cromer_approx(theta_0, w_0, dt, T):\n",
    "    \"\"\"\n",
    "    Calculates angular displacement and angular velocity \n",
    "    using the Euler-Cromer method \n",
    "    \"\"\"\n",
    "    N = int(T/dt)\n",
    "    theta = np.zeros(N+1)\n",
    "    w = np.zeros(N+1)\n",
    "    t = np.linspace(0, T, N + 1)\n",
    "    theta[0] = theta_0\n",
    "    w[0] = w_0\n",
    "    for i in range(N):\n",
    "        w[i+1] = w[i] - g/l*theta[i]*dt\n",
    "        theta[i+1] = theta[i] + w[i+1]*dt\n",
    "    return theta, w, t\n",
    "\n",
    "# RK5(4) method\n",
    "\n",
    "def equation(t, vals):\n",
    "    \"\"\"\n",
    "    Calculates the value of RHS of the differentail equations given an array (vals) which \n",
    "    contains the values of the parameters\n",
    "\n",
    "    Parameters\n",
    "    -----------\n",
    "    t: float\n",
    "    time\n",
    "    \n",
    "    vals: array\n",
    "    values of theta and omega, [theta, omega] \n",
    "    \n",
    "    Returns\n",
    "    -------\n",
    "    array with values of the RHS of the equations.\n",
    "    \"\"\"\n",
    "    dw = -g/l*vals[0]\n",
    "    dtheta = vals[1]\n",
    "    return [dtheta, dw]\n",
    "\n",
    "def RK45_method(RHS, theta_0, w_0, dt, T):\n",
    "    \"\"\"\n",
    "    Calculates the angular dispacement and angular velocity.\n",
    "    \n",
    "    Parameters\n",
    "    ------------\n",
    "    RHS: right hand side of the differentail equations\n",
    "    \n",
    "    theta_0: initial value of angular displacement\n",
    "    \n",
    "    w_0: initial value of the angular velocity\n",
    "    \n",
    "    T: time to calculate up to\n",
    "    \n",
    "    dt: timestep \n",
    "    \"\"\"\n",
    "    init_values = [theta_0, w_0]\n",
    "    t_span = [0, T + dt]\n",
    "    t = np.arange(0, T + dt, dt)\n",
    "    theta12 = integrate.solve_ivp(RHS, t_span, init_values, method = 'RK45', t_eval = t)\n",
    "    theta = theta12.y[0, :]  # Array of angular displacements\n",
    "    w = theta12.y[1, :]      # Array of angular velocities \n",
    "    t = theta12.t            # Array of times\n",
    "    return theta, w, t \n",
    "\n",
    "# Parameters\n",
    "m = 5           # [kg], mass\n",
    "l = 1.0         # [m], length of pendulum string\n",
    "g = 9.8         # |m/s^2], gravitational acceleration\n",
    "theta_0 = 0.2   # [rad], initial angle wrt vertical\n",
    "w_0 = 0.0       # [rad/s], initial angular velocity  \n",
    "\n",
    "# SKRIV KODE HER"
   ]
  },
  {
   "cell_type": "markdown",
   "metadata": {},
   "source": [
    "## Oppgave 2 – Konvergenstest for fjerdeordens Runge-Kutta-metoden"
   ]
  },
  {
   "cell_type": "markdown",
   "metadata": {},
   "source": [
    "Fjerdeordens Runge-Kutta er en fjerdeordens numerisk metode for å løse ordinære differensialligninger. At det er en *fjerde ordens* metode, som vil si at feilen (totalt akkumulert) går som $\\sim \\Delta t^4$. Sammenlignet med f.eks. Euler-Cromer metoden, som er en første ordens metode, hvor feilen går som $\\sim \\Delta t$, vil vi kunne benytte et større tidssteg og oppnå lik feil. \n",
    "\n"
   ]
  },
  {
   "cell_type": "markdown",
   "metadata": {},
   "source": [
    "**a)** Vi skal nå implementere RK4-metoden for å løse differensialligninger. Du får utgitt kode som beregner ett steg i Runge-Kutta metoden i cella under. Skriv en funksjon som beregner utslagsvinkelen, $\\theta$, og vinkelhastigheten, $\\omega$, ved Runge-Kutta-metoden.\n",
    "\n",
    "*Hint:* `RK4_step(theta, w, dt)` regner ut ett steg, så du må benytte en løkke hvor du beregner `n-1` steg for å finne vinkelutslaget."
   ]
  },
  {
   "cell_type": "code",
   "execution_count": null,
   "metadata": {},
   "outputs": [],
   "source": [
    "# GIVEN FUNCTION\n",
    "\n",
    "def k(theta):\n",
    "    \"\"\"\n",
    "    Returns right-hand-side of eq.\n",
    "    \"\"\"\n",
    "    return -g/l*theta\n",
    "\n",
    "def f(w):\n",
    "    \"\"\"\n",
    "    Returns right-hand-side of eq.\n",
    "    \"\"\"\n",
    "    return w\n",
    "\n",
    "def RK4_step(k, f, theta, w, dt):\n",
    "    \"\"\"\n",
    "    Calculates one step of the RK4-algorithm.\n",
    "    \n",
    "    theta: float\n",
    "    previous value of theta\n",
    "           \n",
    "    w: float\n",
    "    previous value of w (omega, angular velocity)\n",
    "    \n",
    "    dt: float\n",
    "    timestep\n",
    "    \n",
    "    return: two floats \n",
    "    \"\"\"\n",
    "    k1 = k(theta)\n",
    "    f1 = f(w)\n",
    "    k2 = k(theta + (dt/2)*f1)\n",
    "    f2 = f(w + (dt/2)*k1)\n",
    "    k3 = k(theta + (dt/2)*f2)\n",
    "    f3 = f(w + (dt/2)*k2)\n",
    "    k4 = k(theta + dt*f3)\n",
    "    f4 = f(w + dt*k3)\n",
    "    return theta + (dt/6)*(f1 + (2*f2) + (2*f3) + f4), w + (dt/6)*(k1 + (2*k2) + (2*k3) + k4)\n",
    "\n",
    "def RK4_method(k, f, theta0, w0, dt, T):\n",
    "    \"\"\"\n",
    "    Computes theta and w (omega).  \n",
    "    \n",
    "    Parameters\n",
    "    -----------\n",
    "    k: RHS of equation\n",
    "    f: RHS of equation\n",
    "    theta0: initial value of theta\n",
    "    w0: initail value of omega\n",
    "    dt: timestep\n",
    "    \n",
    "    return theta, w, t\n",
    "    \"\"\"\n",
    "    \n",
    "    # SKRIV KODE HER\n",
    "    \n",
    "    return theta, w, t"
   ]
  },
  {
   "cell_type": "markdown",
   "metadata": {},
   "source": [
    "**b)** Benytt intitialbetingelsene og parametrene gitt tidligere, og plot vinkelutslaget $\\theta$ som funksjon av tid, $t$, opp til $t = 20$ s. Bruk tidssteg $\\Delta t = 0.01$ s."
   ]
  },
  {
   "cell_type": "code",
   "execution_count": null,
   "metadata": {},
   "outputs": [],
   "source": [
    "# SKRIV KODE HER"
   ]
  },
  {
   "cell_type": "markdown",
   "metadata": {},
   "source": [
    "**c)** Den totale energien til den enkle harmoniske pendelen er gitt ved (se programmeringsøving 1)\n",
    "\n",
    "\\begin{equation}\n",
    " \tE = E_k + E_p = \\frac{1}{2} m l^2 \\omega^2 + \\frac{1}{2} mgl\\theta^2.\n",
    "\t\\label{eq:energy}\n",
    "\\end{equation}\n",
    "\n",
    "Plot den kinetiske energien, den potensielle energien og total energi som funksjon av tid i samme figur. Bruk fjerde-ordens Runge-Kutta metoden med tidssteg $\\Delta t = 0.01$ s. "
   ]
  },
  {
   "cell_type": "code",
   "execution_count": null,
   "metadata": {},
   "outputs": [],
   "source": [
    "# SKRIV KODE HER"
   ]
  },
  {
   "cell_type": "markdown",
   "metadata": {},
   "source": [
    "**d)** Vi skal nå utføre *konvergenstest*. Vi vet at for å ha en fysisk løsning på systemet, må energien være konstant. Dette kan vi bruke for å finne et kvantitativt mål på nøyaktigheten til de numeriske metodene for ulike tidssteg. Altså, vi kan derfor beregne hvor mye energien har endret seg fra starten til slutten av tidsintervallet, for hvert tidssteg.\n",
    "\n",
    "Utfør en konvergenstest av RK4 ved å skrive en funksjon som beregner energidifferansen mellom start- og sluttid. Velg tidssteg mellom $\\Delta t_\\text{start} = 0.001$ s og $\\Delta t_\\text{slutt} = 0.1$ s, og stegdifferanse $\\Delta_\\text{steg} = 0.001$ s. Plot resultatet med tidssteget $\\Delta t$ på $x$-aksen og energidifferansen $\\Delta_E = |E(t=t_\\mathrm{max}) - E(t=0)|$ på $y$-aksen. (Utfør gjerne konvergensten for de andre numeriske metodene også.)\n",
    "\n",
    "*Hint:* Lag en for-løkke som itererer over $\\Delta t$ verdiene, og kjører `RK4_method`-funksjonen for hvert tidssteg."
   ]
  },
  {
   "cell_type": "code",
   "execution_count": null,
   "metadata": {},
   "outputs": [],
   "source": [
    "# SKRIV KODE HER"
   ]
  },
  {
   "cell_type": "markdown",
   "metadata": {},
   "source": [
    "## Ekstraoppgave (frivillig) – Flyttall-feil"
   ]
  },
  {
   "cell_type": "markdown",
   "metadata": {},
   "source": [
    "Flyttall-feil oppstår når datamaskiner ikke klarer å representere tall med stor nok presisjon. Dette skjer blant annet fordi datamaskiner bruker et binært tallsystem (med 0 og 1). Selv om vi som regel ikke har behov for å tenke mye på flyttall-feil, kan de oppstå når du minst venter det. F.eks. når du trekker store og små tall fra hverandre i Python, eller hvis du prøver å representere et irrasjonelt tall eller tall med \"uendelig\" mange desimaler på en datamaskin. Et eksempel er $\\pi$, som ikke kan representeres helt nøyaktig, selv med all lagringskapasitet i universet. "
   ]
  },
  {
   "cell_type": "markdown",
   "metadata": {},
   "source": [
    "### Frivillig arbeidskrav:\n",
    "\n",
    "- Bruk Numpy og lag en variabel `sin_val` som er lik $\\sin(2\\pi)$ og en variabel kalt `cos_val` som er lik $\\cos(2\\pi)$.\n",
    "- Print `sin_val` minus `cos_val`. Hva er svaret? Er det det du forventer?\n",
    "- Lag en ny variabel som heter `sin_n_cos` som er lik $\\sin(0) - \\cos(0)$.\n",
    "- Print `sin_n_cos`. Er dette resultatet som du forventer? Er det det samme som for `sin_val` minus `cos_val`?\n",
    "- Print `sin_n_cos` minus `sin_val` pluss `cos_val`. Får du null som svar?\n",
    "- Vis at $\\sin(x)/(1 + \\cos(x)) = (1 - \\cos(x))/\\sin(x)$.\n",
    "- Lag to funksjoner `trig1` og `trig2` som regner ut $\\sin(x)/(1 + \\cos(x))$ og $(1 - \\cos(x))/\\sin(x)$.\n",
    "- Plot `trig1` minus `trig2` for 100 verdier mellom 2 og 4. Er resultatet 0 for alle verdier mellom 2 og 4?\n",
    "- Plot `trig1` for de samme verdiene som brukt ovenfor. Ser du noen likhet mellom `trig1` og `trig1` minus `trig2`?"
   ]
  }
 ],
 "metadata": {
  "@webio": {
   "lastCommId": null,
   "lastKernelId": null
  },
  "kernelspec": {
   "display_name": "Python 3",
   "language": "python",
   "name": "python3"
  },
  "language_info": {
   "codemirror_mode": {
    "name": "ipython",
    "version": 3
   },
   "file_extension": ".py",
   "mimetype": "text/x-python",
   "name": "python",
   "nbconvert_exporter": "python",
   "pygments_lexer": "ipython3",
   "version": "3.9.2"
  }
 },
 "nbformat": 4,
 "nbformat_minor": 2
}